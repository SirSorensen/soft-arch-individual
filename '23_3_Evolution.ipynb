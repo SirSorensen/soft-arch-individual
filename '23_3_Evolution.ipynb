{
  "cells": [
    {
      "cell_type": "markdown",
      "metadata": {
        "id": "ASCHKm-WYHqy"
      },
      "source": [
        "# Case Study: Zeeguu/API\n",
        "- Backend of a web application that supports [free reading in foreign languages](https://zeeguu.org)\n",
        "- Open source [repository on GH](https://github.com/zeeguu/API/)"
      ]
    },
    {
      "cell_type": "markdown",
      "metadata": {
        "id": "UpiozxqmVqUc"
      },
      "source": [
        "# Everything that we did in Data Gathering & Abstraction\n"
      ]
    },
    {
      "cell_type": "code",
      "execution_count": null,
      "metadata": {
        "colab": {
          "base_uri": "https://localhost:8080/"
        },
        "id": "Iykfb-UYnqux",
        "outputId": "f84ed066-8d0f-48b5-c9a8-dcbdea587144"
      },
      "outputs": [],
      "source": [
        "# Installing Required Dependencies\n",
        "import sys\n",
        "sys.version\n",
        "#!{sys.executable} -m pip install gitpython\n",
        "#!{sys.executable} -m pip install pyvis"
      ]
    },
    {
      "cell_type": "code",
      "execution_count": null,
      "metadata": {
        "colab": {
          "base_uri": "https://localhost:8080/"
        },
        "id": "0ruTtX88Tb-w",
        "outputId": "a420fedc-5ceb-479e-9e61-271d05f2e742"
      },
      "outputs": [],
      "source": [
        "# In Collab our notebook runs in a temporary mounted file system\n",
        "# Let's print the name of the folder where our script runs\n",
        "\n",
        "import os\n",
        "cwd = os.getcwd()\n",
        "print(cwd)"
      ]
    },
    {
      "cell_type": "code",
      "execution_count": null,
      "metadata": {
        "id": "Ssb7D6FsoD6F"
      },
      "outputs": [],
      "source": [
        "# Let's declare a var for the path where we're going to download a repository\n",
        "# Warning: this must end in /\n",
        "CODE_ROOT_FOLDER=cwd+\"/zeeguu/api/\"\n",
        "print(CODE_ROOT_FOLDER)"
      ]
    },
    {
      "cell_type": "code",
      "execution_count": null,
      "metadata": {
        "id": "NeJVTDwroSxt"
      },
      "outputs": [],
      "source": [
        "from git import Repo\n",
        "# GitPython is a library that allows us to work easily with git from Python\n",
        "# https://gitpython.readthedocs.io/en/stable/tutorial.html\n",
        "\n",
        "\n",
        "# If the file exists, it means we've already downloaded\n",
        "if not os.path.exists(CODE_ROOT_FOLDER):\n",
        "  Repo.clone_from(\"https://github.com/zeeguu/api\", CODE_ROOT_FOLDER)\n",
        "else:\n",
        "  print(\"Seems that the repo already exists :)\")\n",
        "\n",
        "# If the output folder does not exist, create one\n",
        "OUTPUT_FOLDER=cwd+\"/output/\"\n",
        "if not os.path.exists(OUTPUT_FOLDER):\n",
        "  os.makedirs(OUTPUT_FOLDER)\n"
      ]
    },
    {
      "cell_type": "code",
      "execution_count": null,
      "metadata": {
        "id": "Njkjj4fzUV2E"
      },
      "outputs": [],
      "source": [
        "# helper function to get a file path w/o having to always provide the /zeeguu/api/ prefix\n",
        "def file_path(file_name):\n",
        "    return CODE_ROOT_FOLDER+file_name\n",
        "\n",
        "assert (file_path(\"zeeguu/core/model/user.py\") == cwd+\"/zeeguu/api/zeeguu/core/model/user.py\")\n"
      ]
    },
    {
      "cell_type": "code",
      "execution_count": null,
      "metadata": {
        "id": "lsXGbXBDpZtg"
      },
      "outputs": [],
      "source": [
        "# extracting a module name from a file name\n",
        "def module_name_from_file_path(full_path):\n",
        "\n",
        "    # e.g. ../core/model/user.py -> zeeguu.core.model.user\n",
        "\n",
        "    file_name = full_path[len(CODE_ROOT_FOLDER):]\n",
        "    #file_name = file_name.replace(\"/__init__.py\",\"\")\n",
        "    file_name = file_name.replace(\"/\",\".\")\n",
        "    file_name = file_name.replace(\".py\",\"\")\n",
        "    return file_name\n",
        "\n",
        "assert 'zeeguu.core.model.user' == module_name_from_file_path(file_path('zeeguu/core/model/user.py'))"
      ]
    },
    {
      "cell_type": "code",
      "execution_count": null,
      "metadata": {
        "colab": {
          "base_uri": "https://localhost:8080/"
        },
        "id": "1C9goF1zob_U",
        "outputId": "84b59069-9d3e-4615-d6ce-548061a07ac5"
      },
      "outputs": [],
      "source": [
        "# naïve way of extracting imports using regular expressions\n",
        "import re\n",
        "\n",
        "\n",
        "# we assume that imports are always at the\n",
        "# TODO for you: add full support for imports; this is not complete...\n",
        "def import_from_line(line):\n",
        "\n",
        "    # regex patterns used\n",
        "    #   ^  - beginning of line\n",
        "    #   \\S - anything that is not space\n",
        "    #   +  - at least one occurrence of previous\n",
        "    #  ( ) - capture group (read more at: https://pynative.com/python-regex-capturing-groups/)\n",
        "    try:\n",
        "      y = re.search(r\"^from (\\S+)\", line)\n",
        "      if not y:\n",
        "        y = re.search(r\"^import (\\S+)\", line)\n",
        "      return y.group(1)\n",
        "    except:\n",
        "      return None\n",
        "\n",
        "\n",
        "# extracts all the imported modules from a file\n",
        "# returns a module of the form zeeguu_core.model.bookmark, e.g.\n",
        "def imports_from_file(file):\n",
        "\n",
        "    all_imports = []\n",
        "\n",
        "    lines = [line for line in open(file)]\n",
        "\n",
        "    for line in lines:\n",
        "        imp = import_from_line(line)\n",
        "\n",
        "        if imp:\n",
        "            all_imports.append(imp)\n",
        "\n",
        "    return all_imports\n",
        "\n",
        "imports_from_file(file_path('zeeguu/core/model/user.py'))"
      ]
    },
    {
      "cell_type": "code",
      "execution_count": null,
      "metadata": {
        "colab": {
          "base_uri": "https://localhost:8080/"
        },
        "id": "COep0afM3Jb7",
        "outputId": "cd3a169a-8ce7-4ff2-cfa8-7fd124265053"
      },
      "outputs": [],
      "source": [
        "# test\n",
        "print(imports_from_file(file_path('zeeguu/core/model/bookmark.py')))\n",
        "print(imports_from_file(file_path('zeeguu/core/model/unique_code.py')))"
      ]
    },
    {
      "cell_type": "code",
      "execution_count": null,
      "metadata": {
        "id": "zQkIMwpSpRS6"
      },
      "outputs": [],
      "source": []
    },
    {
      "cell_type": "markdown",
      "metadata": {
        "id": "69Hh5gH-qn1c"
      },
      "source": [
        "## Now we extract the dependencies between all the files\n",
        "\n",
        "To do that we iterate over all the python files with the hel pf the `Path.rglob` function from `pathlib`\n",
        "\n",
        "And we create a network with the help of the `networkx` package."
      ]
    },
    {
      "cell_type": "code",
      "execution_count": null,
      "metadata": {
        "id": "Urj6qZH6pctR"
      },
      "outputs": [],
      "source": [
        "import pathlib\n",
        "from pathlib import Path\n",
        "import networkx as nx\n",
        "\n",
        "def dependencies_graph(code_root_folder):\n",
        "    files = Path(code_root_folder).rglob(\"*.py\")\n",
        "\n",
        "    G = nx.Graph()\n",
        "\n",
        "    for file in files:\n",
        "        file_path = str(file)\n",
        "        sub_modules = [sub_mod for sub_mod in str(file).split('/') if sub_mod != '']\n",
        "\n",
        "\n",
        "        #sub_modules = [sub_mod for sub_mod in module_name_from_file_path(file_path).split('.') if sub_mod != '']\n",
        "\n",
        "        if len(sub_modules) > 1:\n",
        "            module_name = sub_modules[-2]\n",
        "        else:\n",
        "            module_name = sub_modules[1]\n",
        "\n",
        "        if module_name not in G.nodes:\n",
        "            G.add_node(module_name)\n",
        "            print(\"new node = \", module_name)\n",
        "\n",
        "        for each in imports_from_file(file_path):\n",
        "            each2 = each.split('.')[-1]\n",
        "            print(\"new edge = \", each2)\n",
        "            G.add_edge(module_name, each2)\n",
        "\n",
        "    return G"
      ]
    },
    {
      "cell_type": "markdown",
      "metadata": {
        "id": "5JjPcuStq595"
      },
      "source": [
        "## Mathplotlib also has support for drawing networks\n",
        "\n",
        "We do a simple drawing of all the files and their dependencies in our system"
      ]
    },
    {
      "cell_type": "code",
      "execution_count": null,
      "metadata": {
        "id": "cdu_mlxmpoSA"
      },
      "outputs": [],
      "source": [
        "import matplotlib.pyplot as plt\n",
        "\n",
        "# a function to draw a graph\n",
        "def draw_graph(G, size, **args):\n",
        "    plt.figure(figsize=size)\n",
        "    nx.draw(G, **args)\n",
        "    plt.show()"
      ]
    },
    {
      "cell_type": "code",
      "execution_count": null,
      "metadata": {},
      "outputs": [],
      "source": [
        "G = dependencies_graph(CODE_ROOT_FOLDER)"
      ]
    },
    {
      "cell_type": "code",
      "execution_count": null,
      "metadata": {
        "colab": {
          "base_uri": "https://localhost:8080/",
          "height": 983
        },
        "id": "HrmzBI6Vpp4s",
        "outputId": "fe5711e6-4a82-49ae-e693-29fed0c3065d"
      },
      "outputs": [],
      "source": [
        "draw_graph(G, (12,10), with_labels=False, pos=nx.spring_layout(G))"
      ]
    },
    {
      "cell_type": "markdown",
      "metadata": {
        "id": "J5RVJmRoxwKV"
      },
      "source": [
        "## Abstraction"
      ]
    },
    {
      "cell_type": "code",
      "execution_count": null,
      "metadata": {
        "id": "hA4Y3V_KmPKG"
      },
      "outputs": [],
      "source": [
        "# Let's define some relevant modules\n",
        "def relevant_module(module_name):\n",
        "\n",
        "  if \"test\" in module_name:\n",
        "    return False\n",
        "\n",
        "\n",
        "  if module_name.startswith(\"zeeguu\"):\n",
        "    return True\n",
        "\n",
        "\n",
        "  return False"
      ]
    },
    {
      "cell_type": "code",
      "execution_count": null,
      "metadata": {
        "id": "cXCNFdxStoKL"
      },
      "outputs": [],
      "source": [
        "# However, if we think a bit more about it, we realize that a dependency graph\n",
        "# is a directed graph (e.g. module A depends on m)\n",
        "# with any kinds of graph either directed (nx.DiGraph) or\n",
        "# non-directed (nx.Graph)\n",
        "\n",
        "def dependencies_digraph(code_root_folder, depth=-1):\n",
        "    if depth != -1:\n",
        "       depth = depth -1\n",
        "\n",
        "    files = Path(code_root_folder).rglob(\"*.py\")\n",
        "\n",
        "    G = nx.DiGraph()\n",
        "\n",
        "    for file in files:\n",
        "        file_path = str(file)\n",
        "\n",
        "        source_module = module_name_from_file_path(file_path)\n",
        "        if not relevant_module(source_module):\n",
        "          continue\n",
        "        \n",
        "        sms = source_module.split('.')\n",
        "        if len(sms) > depth:\n",
        "          src = sms[depth]\n",
        "        else:\n",
        "           src = sms[-1]\n",
        "        if source_module not in G.nodes:\n",
        "            G.add_node(src)\n",
        "            print(\"New node \", src)\n",
        "\n",
        "        for target_module in imports_from_file(file_path):\n",
        "\n",
        "            if relevant_module(target_module):\n",
        "              tms = target_module.split('.')\n",
        "              if len(tms) > depth:\n",
        "                dst = tms[depth]\n",
        "              else:\n",
        "                dst = tms[-1]\n",
        "              \n",
        "              if src != dst:\n",
        "                if (src, dst) in G.edges():\n",
        "                  w = G[src][dst]['weight'] # Credit to Claude.AI\n",
        "                  G.add_edge(src, dst, weight=w+1)\n",
        "                  print(\"w = \", w)\n",
        "                else:\n",
        "                  G.add_edge(src, dst, weight=1)\n",
        "                print(\"New edge \", (src, dst))\n",
        "\n",
        "\n",
        "    return G\n"
      ]
    },
    {
      "cell_type": "code",
      "execution_count": null,
      "metadata": {
        "colab": {
          "base_uri": "https://localhost:8080/",
          "height": 1000
        },
        "id": "EKXsDlXs6Uj7",
        "outputId": "94cb6596-0bd9-4479-fb8c-8ad286e9bb23"
      },
      "outputs": [],
      "source": [
        "# Looking at the directed graph\n",
        "DG = dependencies_digraph(CODE_ROOT_FOLDER, 2)"
      ]
    },
    {
      "cell_type": "code",
      "execution_count": null,
      "metadata": {},
      "outputs": [],
      "source": [
        "draw_graph(DG, (40,40), with_labels=True, pos=nx.spring_layout(DG))"
      ]
    },
    {
      "cell_type": "markdown",
      "metadata": {
        "id": "bszpi8tosMQ9"
      },
      "source": [
        "## Basic Abstraction Using Hierarchical Module Structure & Naming Conventions\n",
        "\n",
        "- abstracting the imports between the modules along the module hierarchy\n",
        "- also taking into account naming conventions to filter out external modules"
      ]
    },
    {
      "cell_type": "code",
      "execution_count": null,
      "metadata": {
        "id": "H58MD9-IsM4q"
      },
      "outputs": [],
      "source": [
        "# extracts the parent of depth X\n",
        "def top_level_package(module_name, depth=1):\n",
        "    components = module_name.split(\".\")\n",
        "    return \".\".join(components[:depth])\n",
        "\n",
        "assert (top_level_package(\"zeeguu.core.model.util\") == \"zeeguu\")\n",
        "assert (top_level_package(\"zeeguu.core.model.util\", 2) == \"zeeguu.core\")"
      ]
    },
    {
      "cell_type": "code",
      "execution_count": null,
      "metadata": {
        "id": "oacdEusZsNVR"
      },
      "outputs": [],
      "source": [
        "def abstracted_to_top_level(G : nx.DiGraph, depth=1):\n",
        "    aG = nx.DiGraph()\n",
        "    for each in G.edges():\n",
        "        src = top_level_package(each[0], depth).split('.')[-1]\n",
        "        dst = top_level_package(each[1], depth).split('.')[-1]\n",
        "\n",
        "        if src != dst:\n",
        "          if (src, dst) in aG.edges():\n",
        "            w = aG[src][dst]['weight'] # Credit to Claude.AI\n",
        "            aG.add_edge(src, dst, weight=w+1)\n",
        "          else:\n",
        "             aG.add_edge(src, dst, weight=1)\n",
        "\n",
        "    return aG"
      ]
    },
    {
      "cell_type": "code",
      "execution_count": null,
      "metadata": {
        "id": "DxpxCfvxsfDn"
      },
      "outputs": [],
      "source": [
        "ADG = abstracted_to_top_level(DG, 2)"
      ]
    },
    {
      "cell_type": "code",
      "execution_count": null,
      "metadata": {
        "colab": {
          "base_uri": "https://localhost:8080/",
          "height": 1000
        },
        "id": "DAAISo5zsoYd",
        "outputId": "1d7325b9-f0c0-45c1-a807-702ee7f83740"
      },
      "outputs": [],
      "source": [
        "plt.figure(figsize=(10,10))\n",
        "nx.draw(ADG, with_labels=True, pos=nx.shell_layout(ADG))\n",
        "plt.show()"
      ]
    },
    {
      "cell_type": "code",
      "execution_count": null,
      "metadata": {
        "id": "l_DJ2fWks63E"
      },
      "outputs": [],
      "source": [
        "# Inspiration = https://stackoverflow.com/a/70245742\n",
        "pos = nx.shell_layout(ADG)\n",
        "fig = plt.figure(figsize=(10,10))\n",
        "nx.draw_networkx_nodes(ADG, pos)\n",
        "nx.draw_networkx_labels(ADG, pos)\n",
        "fig.savefig(\"output/ADG_edgeless.png\")"
      ]
    },
    {
      "cell_type": "code",
      "execution_count": null,
      "metadata": {},
      "outputs": [],
      "source": [
        "# extracts the parent of depth X\n",
        "def verbose_top_level_package(module_name : str, depth=1):\n",
        "    components = module_name.split(\".\")\n",
        "    top_level = \".\".join(components[:depth])\n",
        "    return top_level.split(\".\")[-1]\n",
        "\n",
        "def bottom_level_package(module_name : str):\n",
        "    components = module_name.split(\".\")\n",
        "    return components[-1]\n",
        "\n",
        "def verbose_abstracted_to_top_level(G : nx.DiGraph, depth=1):\n",
        "    aG = nx.DiGraph()\n",
        "    for each in G.edges():\n",
        "        src = verbose_top_level_package(each[0], depth)\n",
        "        dst = verbose_top_level_package(each[1], depth)\n",
        "\n",
        "        each_src = each[0]\n",
        "        each_dst = each[1]\n",
        "        each_w = G[each_src][each_dst]['weight'] # Credit to Claude.AI\n",
        "\n",
        "        if src != dst:\n",
        "          if (src, dst) in aG.edges():\n",
        "            w = aG[src][dst]['weight'] # Credit to Claude.AI\n",
        "            aG.add_edge(src, dst, weight=w+each_w)\n",
        "          else:\n",
        "            aG.add_edge(src, dst, weight=each_w)\n",
        "           \n",
        "\n",
        "    return aG\n",
        "\n",
        "ADG = verbose_abstracted_to_top_level(DG, 2)"
      ]
    },
    {
      "cell_type": "code",
      "execution_count": null,
      "metadata": {},
      "outputs": [],
      "source": [
        "# Traversing through Test\n",
        "file_types = {}\n",
        "dir_file_count = {}\n",
        "dir_char_count = {}\n",
        "dir_word_count = {}\n",
        "dir_space_count = {}\n",
        "dir_line_count = {}\n",
        "for root, dirs, files in os.walk(CODE_ROOT_FOLDER):\n",
        "    for file in files:\n",
        "        filepath = root + '/' + file\n",
        "        module_named_file = module_name_from_file_path(filepath)\n",
        "        if root == CODE_ROOT_FOLDER:\n",
        "            module_named_file = module_named_file[1:]\n",
        "        \n",
        "        sub_dirs = [sub_dir for sub_dir in filepath[len(CODE_ROOT_FOLDER):].split('/') if sub_dir != '']\n",
        "\n",
        "        file_type = '.' + file.split('.')[-1]\n",
        "        if file_type in file_types:\n",
        "            file_types[file_type] = 1 + file_types[file_type]\n",
        "        else:\n",
        "            file_types[file_type] = 1\n",
        "\n",
        "        if len(sub_dirs) > 2 and sub_dirs[0] == 'zeeguu' and all(d[0] != '.' for d in sub_dirs) and 'data' not in sub_dirs and 'test_data' not in sub_dirs and file_type in ['.py', '.sh', '.sql']:\n",
        "            sub_dir = sub_dirs[1]\n",
        "            if sub_dir not in dir_file_count:\n",
        "                dir_file_count[sub_dir] = 0\n",
        "                dir_char_count[sub_dir] = 0\n",
        "                dir_word_count[sub_dir] = 0\n",
        "                dir_space_count[sub_dir] = 0\n",
        "                dir_line_count[sub_dir] = 0\n",
        "\n",
        "\n",
        "            if file_type in ['.py', '.sh', '.sql']:\n",
        "                with open(filepath,\"r\", encoding=\"utf8\", errors='ignore') as f:\n",
        "                    content = f.read()\n",
        "\n",
        "                    dir_file_count[sub_dir] = dir_file_count[sub_dir] + 1\n",
        "                    dir_char_count[sub_dir] = dir_char_count[sub_dir] + len(content)\n",
        "                    dir_word_count[sub_dir] = dir_word_count[sub_dir] + len(content.split())\n",
        "                    dir_space_count[sub_dir] = dir_space_count[sub_dir] + content.count(' ')\n",
        "                    dir_line_count[sub_dir] = dir_line_count[sub_dir] + content.count('\\n')\n",
        "            \n",
        "            if len(sub_dirs) > 3:\n",
        "                for dir_i in range(2, len(sub_dirs)-1):\n",
        "                    sub_dir = sub_dirs[dir_i]\n",
        "                    if sub_dir not in dir_file_count:\n",
        "                        dir_file_count[sub_dir] = 0\n",
        "                        dir_char_count[sub_dir] = 0\n",
        "                        dir_word_count[sub_dir] = 0\n",
        "                        dir_space_count[sub_dir] = 0\n",
        "                        dir_line_count[sub_dir] = 0\n",
        "\n",
        "                    if file_type in ['.py', '.sh', '.sql']:\n",
        "                        with open(filepath,\"r\", encoding=\"utf8\", errors='ignore') as f:\n",
        "                            content = f.read()\n",
        "\n",
        "                            dir_file_count[sub_dir] = dir_file_count[sub_dir] + 1\n",
        "                            dir_char_count[sub_dir] = dir_char_count[sub_dir] + len(content)\n",
        "                            dir_word_count[sub_dir] = dir_word_count[sub_dir] + len(content.split())\n",
        "                            dir_space_count[sub_dir] = dir_space_count[sub_dir] + content.count(' ')\n",
        "                            dir_line_count[sub_dir] = dir_line_count[sub_dir] + content.count('\\n')\n",
        "        elif len(sub_dirs) <= 2 and sub_dirs[0] == 'zeeguu' and all(d[0] != '.' for d in sub_dirs) and 'data' not in sub_dirs and 'test_data' not in sub_dirs and file_type in ['.py', '.sh', '.sql']:\n",
        "            sub_dir = sub_dirs[0]\n",
        "            if sub_dir not in dir_file_count:\n",
        "                dir_file_count[sub_dir] = 0\n",
        "                dir_char_count[sub_dir] = 0\n",
        "                dir_word_count[sub_dir] = 0\n",
        "                dir_space_count[sub_dir] = 0\n",
        "                dir_line_count[sub_dir] = 0\n",
        "\n",
        "\n",
        "            if file_type in ['.py', '.sh', '.sql']:\n",
        "                with open(filepath,\"r\", encoding=\"utf8\", errors='ignore') as f:\n",
        "                    content = f.read()\n",
        "\n",
        "                    dir_file_count[sub_dir] = dir_file_count[sub_dir] + 1\n",
        "                    dir_char_count[sub_dir] = dir_char_count[sub_dir] + len(content)\n",
        "                    dir_word_count[sub_dir] = dir_word_count[sub_dir] + len(content.split())\n",
        "                    dir_space_count[sub_dir] = dir_space_count[sub_dir] + content.count(' ')\n",
        "                    dir_line_count[sub_dir] = dir_line_count[sub_dir] + content.count('\\n')\n",
        "\n",
        "print(dir_file_count)\n",
        "print(dir_char_count)\n",
        "print(dir_word_count)\n",
        "print(dir_space_count)\n",
        "print(dir_line_count)"
      ]
    },
    {
      "cell_type": "code",
      "execution_count": null,
      "metadata": {},
      "outputs": [],
      "source": [
        "import pandas as pd\n",
        "import numpy as np\n",
        "\n",
        "\n",
        "\n",
        "# Inspiration = https://stackoverflow.com/a/70245742\n",
        "def plot_adigraph(_ADG : nx.DiGraph, _divider=10, plot_name=\"ADG\", pos=None, top_level=True):\n",
        "    ### Init ###\n",
        "    if pos is None:\n",
        "        pos = nx.shell_layout(_ADG)\n",
        "        #pos = nx.fruchterman_reingold_layout(_ADG)\n",
        "    \n",
        "    fig, ax = plt.subplots(figsize=(15, 10))\n",
        "\n",
        "    if not top_level:\n",
        "        nodes_to_be_removed = []\n",
        "        edges_to_be_removed = []\n",
        "        for node in ADG.nodes():\n",
        "            if node in _ADG.nodes():\n",
        "                nodes_to_be_removed.append(node)\n",
        "                for e in _ADG.edges():\n",
        "                    if e[0] == node or e[1] == node:\n",
        "                        edges_to_be_removed.append(e)\n",
        "        \n",
        "        for n in nodes_to_be_removed:\n",
        "            _ADG.remove_node(n)\n",
        "        for e in edges_to_be_removed:\n",
        "            _ADG.remove_edge(e[0], e[1])\n",
        "    \n",
        "\n",
        "    # Edges\n",
        "    curved_edges = [edge for edge in _ADG.edges() if reversed(edge) in _ADG.edges()]\n",
        "    straight_edges = list(set(_ADG.edges()) - set(curved_edges))\n",
        "    arc_rad = 0.1\n",
        "\n",
        "    # Edge weights\n",
        "    edge_weights = nx.get_edge_attributes(_ADG, 'weight')\n",
        "\n",
        "\n",
        "    straight_edge_widths = [max(0.25, min(2, edge_weights[edge]/_divider)) for edge in straight_edges]\n",
        "    curved_edge_widths = [max(0.25, min(2, edge_weights[edge]/_divider)) for edge in curved_edges]\n",
        "\n",
        "    curved_edge_labels = {edge: edge_weights[edge] for edge in curved_edges}\n",
        "    straight_edge_labels = {edge: edge_weights[edge] for edge in straight_edges}\n",
        "\n",
        "    ### DRAW ###\n",
        "    # Nodes\n",
        "  \n",
        "    sizes = []\n",
        "    for dir in _ADG.nodes():\n",
        "        if dir in dir_file_count:\n",
        "            sizes.append(dir_file_count[dir]*100)\n",
        "        else:\n",
        "            sizes.append(np.nan)\n",
        "    print(sizes)\n",
        "    print(dir_file_count)\n",
        "\n",
        "    avg_char_count = []\n",
        "    for dir in _ADG.nodes():\n",
        "        if dir in dir_file_count and dir_file_count[dir] != 0:\n",
        "            avg_char_count.append((dir_char_count[dir]/dir_file_count[dir]))\n",
        "        else:\n",
        "            avg_char_count.append(np.nan)\n",
        "    print(avg_char_count)\n",
        "\n",
        "    df = (pd.DataFrame(avg_char_count))\n",
        "    df['color'] = df.transform(lambda c: c)\n",
        "    print(df)\n",
        "\n",
        "    vmax = round(df['color'].max(), -2)\n",
        "    vmin = 0\n",
        "    cmap = plt.cm.coolwarm\n",
        "\n",
        "    nx.draw_networkx_nodes(_ADG, pos, node_size=sizes, node_shape='o', alpha=0.7, linewidths=1,\n",
        "                           node_color=df['color'], cmap=cmap, vmin=vmin, vmax=vmax)\n",
        "    \n",
        "\n",
        "\n",
        "    # Create colorbar\n",
        "    sm = plt.cm.ScalarMappable(cmap=cmap, norm=plt.Normalize(vmin=vmin, vmax=vmax))\n",
        "    sm.set_array([])\n",
        "    cbar = plt.colorbar(sm, ax=ax)\n",
        "    cbar.set_label('Average Character Count per File')\n",
        "    \n",
        "    nx.draw_networkx_labels(_ADG, pos, \n",
        "                            verticalalignment='center_baseline', horizontalalignment='center', \n",
        "                            alpha=1, ax=ax\n",
        "                            )\n",
        "\n",
        "    # Edges\n",
        "    nx.draw_networkx_edges(_ADG, pos, ax=ax, edgelist=straight_edges, width=straight_edge_widths)\n",
        "    nx.draw_networkx_edges(_ADG, pos, ax=ax, edgelist=curved_edges, connectionstyle=f'arc3, rad = {arc_rad}', width=curved_edge_widths)\n",
        "\n",
        "    # Edge labels\n",
        "    nx.draw_networkx_edge_labels(_ADG, pos, edge_labels=curved_edge_labels, ax=ax,\n",
        "                                rotate=False, connectionstyle=f'arc3, rad = {arc_rad}',\n",
        "                                label_pos=0.4)\n",
        "    nx.draw_networkx_edge_labels(_ADG, pos, edge_labels=straight_edge_labels, ax=ax,\n",
        "                                rotate=False, label_pos=0.4)\n",
        "    # Draw\n",
        "    fig.savefig(f\"output/{plot_name}.png\", bbox_inches='tight', pad_inches=0)"
      ]
    },
    {
      "cell_type": "code",
      "execution_count": null,
      "metadata": {},
      "outputs": [],
      "source": [
        "plot_adigraph(ADG)"
      ]
    },
    {
      "cell_type": "markdown",
      "metadata": {},
      "source": []
    },
    {
      "cell_type": "code",
      "execution_count": null,
      "metadata": {},
      "outputs": [],
      "source": []
    },
    {
      "cell_type": "code",
      "execution_count": null,
      "metadata": {},
      "outputs": [],
      "source": [
        "SUB_FOLDER=cwd+\"/zeeguu/api/zeeguu/core\"\n",
        "newDG = dependencies_digraph(SUB_FOLDER)\n",
        "newADG = verbose_abstracted_to_top_level(newDG, 3)\n",
        "plot_adigraph(newADG, plot_name=\"newADG\", pos=nx.shell_layout(newADG), top_level=False)"
      ]
    },
    {
      "cell_type": "markdown",
      "metadata": {
        "id": "EWbj2QQZGABW"
      },
      "source": [
        "# Evolution Analysis"
      ]
    },
    {
      "cell_type": "code",
      "execution_count": null,
      "metadata": {
        "colab": {
          "base_uri": "https://localhost:8080/"
        },
        "id": "IRXKNe2iGCcy",
        "outputId": "7c31490d-9be0-471e-805e-7c64e851b774"
      },
      "outputs": [],
      "source": [
        "#!{sys.executable} -m pip install pydriller==2.6"
      ]
    },
    {
      "cell_type": "code",
      "execution_count": null,
      "metadata": {
        "id": "03eSnzkbGVgS"
      },
      "outputs": [],
      "source": [
        "from pydriller import Repository\n",
        "REPO_DIR = 'https://github.com/zeeguu/api'"
      ]
    },
    {
      "cell_type": "code",
      "execution_count": null,
      "metadata": {
        "colab": {
          "base_uri": "https://localhost:8080/"
        },
        "id": "M_L596zJHKD1",
        "outputId": "60a61210-6bd7-4ffe-e8f5-a0abc586d2d3"
      },
      "outputs": [],
      "source": [
        "# for PyDriller to work we need to change directory to our local clone of the repo\n",
        "%cd zeeguu/api"
      ]
    },
    {
      "cell_type": "code",
      "execution_count": null,
      "metadata": {
        "colab": {
          "base_uri": "https://localhost:8080/"
        },
        "id": "g5VORSwkJL9T",
        "outputId": "3994cf33-2445-49f2-c9fc-c00d80d5b46d"
      },
      "outputs": [],
      "source": [
        "all_commits = list(Repository(REPO_DIR).traverse_commits())\n",
        "\n",
        "def print_out_commit_details(commits):\n",
        "  for commit in commits:\n",
        "      print(commit)\n",
        "      for each in commit.modified_files:\n",
        "          print(f\"{commit.author.name} {each.change_type} {each.filename}\\n -{each.old_path}\\n -{each.new_path}\")\n",
        "\n",
        "#print_out_commit_details(all_commits[0:1])"
      ]
    },
    {
      "cell_type": "code",
      "execution_count": null,
      "metadata": {
        "colab": {
          "base_uri": "https://localhost:8080/"
        },
        "id": "I39dabqZGzBF",
        "outputId": "e525ec60-8792-43cd-9495-950ba6178f2e"
      },
      "outputs": [],
      "source": [
        "from collections import defaultdict\n",
        "\n",
        "commit_counts = defaultdict(int)\n",
        "\n",
        "for commit in all_commits:\n",
        "    for each in commit.modified_files:\n",
        "        try:\n",
        "            commit_counts [each.new_path] += 1\n",
        "        except:\n",
        "            pass\n",
        "\n",
        "# sort by number of commits in decreasing order\n",
        "sorted(commit_counts.items(), key=lambda x: x[1], reverse=True)[:42]\n",
        "\n",
        "# discussion: What is (\"None\", 103) ?"
      ]
    },
    {
      "cell_type": "code",
      "execution_count": null,
      "metadata": {
        "colab": {
          "base_uri": "https://localhost:8080/"
        },
        "id": "zOI6LVfyG7J2",
        "outputId": "b2e89afc-9548-49e6-9d1f-115d49990f94"
      },
      "outputs": [],
      "source": [
        "from pydriller import ModificationType\n",
        "\n",
        "commit_counts = {}\n",
        "\n",
        "for commit in all_commits:\n",
        "    for modification in commit.modified_files:\n",
        "\n",
        "        new_path = modification.new_path\n",
        "        old_path = modification.old_path\n",
        "\n",
        "        try:\n",
        "\n",
        "            if modification.change_type == ModificationType.RENAME:\n",
        "                commit_counts[new_path]=commit_counts.get(old_path,0)+1\n",
        "                commit_counts.pop(old_path)\n",
        "\n",
        "            elif modification.change_type == ModificationType.DELETE:\n",
        "                commit_counts.pop(old_path, '')\n",
        "\n",
        "            elif modification.change_type == ModificationType.ADD:\n",
        "                commit_counts[new_path] = 1\n",
        "\n",
        "            else: # modification to existing file\n",
        "                    commit_counts [old_path] += 1\n",
        "        except Exception as e:\n",
        "            print(\"something went wrong with: \" + str(modification))\n",
        "            pass\n",
        "\n",
        "sorted(commit_counts.items(), key=lambda x:x[1], reverse=True)"
      ]
    },
    {
      "cell_type": "code",
      "execution_count": null,
      "metadata": {},
      "outputs": [],
      "source": [
        "%cd ../.."
      ]
    },
    {
      "cell_type": "code",
      "execution_count": null,
      "metadata": {
        "id": "qvxfj7TaKSol"
      },
      "outputs": [],
      "source": [
        "\n",
        "\n",
        "def module_name_from_rel_path(full_path):\n",
        "\n",
        "    # e.g. ../core/model/user.py -> zeeguu.core.model.user\n",
        "\n",
        "    #file_name = full_path.replace(\"/__init__.py\",\"\")\n",
        "    file_name = full_path.replace(\"/\",\".\")\n",
        "    file_name = file_name.replace(\".py\",\"\")\n",
        "    return file_name\n",
        "\n",
        "\n",
        "assert (\"tools.migrations.teacher_dashboard_migration_1.upgrade\" == module_name_from_rel_path(\"tools/migrations/teacher_dashboard_migration_1/upgrade.py\"))\n",
        "\n",
        "#assert (\"zeeguu.api\") == module_name_from_rel_path(\"zeeguu/api/__init__.py\")"
      ]
    },
    {
      "cell_type": "code",
      "execution_count": null,
      "metadata": {
        "colab": {
          "base_uri": "https://localhost:8080/"
        },
        "id": "W9Uj-rnNIqao",
        "outputId": "c42fd0d7-c7da-492a-9eab-88ab56f9dcca"
      },
      "outputs": [],
      "source": [
        "package_activity = defaultdict(int)\n",
        "\n",
        "for path, count in commit_counts.items():\n",
        "    if \".py\" in str(path):\n",
        "        l2_module = top_level_package(module_name_from_rel_path(path), 2)\n",
        "        package_activity[l2_module] += count\n",
        "\n",
        "sorted_sizes = sorted(package_activity.items(), key=lambda x: x[1], reverse=True)\n",
        "\n",
        "print(sorted_sizes)\n",
        "\n"
      ]
    },
    {
      "cell_type": "code",
      "execution_count": null,
      "metadata": {
        "colab": {
          "base_uri": "https://localhost:8080/"
        },
        "id": "fpZkX6P4JySo",
        "outputId": "a65560c7-72ba-49ca-dae7-a8f930aa613d"
      },
      "outputs": [],
      "source": [
        "\n",
        "sizes = []\n",
        "\n",
        "for n in ADG.nodes():\n",
        "  sizes.append(package_activity[n])\n",
        "\n",
        "print(sizes)\n"
      ]
    },
    {
      "cell_type": "markdown",
      "metadata": {
        "id": "8SeQAG2XLxqo"
      },
      "source": []
    },
    {
      "cell_type": "code",
      "execution_count": null,
      "metadata": {},
      "outputs": [],
      "source": []
    },
    {
      "cell_type": "code",
      "execution_count": null,
      "metadata": {
        "colab": {
          "base_uri": "https://localhost:8080/",
          "height": 1000
        },
        "id": "DIrvAHl093uc",
        "outputId": "e86456c6-73fb-4683-cad8-d007f488b08e"
      },
      "outputs": [],
      "source": [
        "plt.figure(figsize=(20,20))\n",
        "nx.draw_networkx(ADG, with_labels=True, node_size = sizes, node_color='r', pos=nx.kamada_kawai_layout(G))\n",
        "plt.show()"
      ]
    },
    {
      "cell_type": "markdown",
      "metadata": {
        "id": "Fu7tAPmGExEq"
      },
      "source": [
        "# For Home: Extract Multiple Evolution Hotspots from Zeeguu\n",
        "\n",
        "- Extract multiple complementary module views from your case study system\n",
        "- Ensure that your layouts are readable - limit the number of nodes in a view, use a different layout in networkx, or use a different library than networkx\n",
        "- Augment each of the previously obtained module views by mapping the above-computed churn metric on the color of a given node"
      ]
    },
    {
      "cell_type": "code",
      "execution_count": null,
      "metadata": {},
      "outputs": [],
      "source": [
        "\n"
      ]
    }
  ],
  "metadata": {
    "colab": {
      "provenance": []
    },
    "kernelspec": {
      "display_name": "base",
      "language": "python",
      "name": "python3"
    },
    "language_info": {
      "codemirror_mode": {
        "name": "ipython",
        "version": 3
      },
      "file_extension": ".py",
      "mimetype": "text/x-python",
      "name": "python",
      "nbconvert_exporter": "python",
      "pygments_lexer": "ipython3",
      "version": "3.12.7"
    }
  },
  "nbformat": 4,
  "nbformat_minor": 0
}
